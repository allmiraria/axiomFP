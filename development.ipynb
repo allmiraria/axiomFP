{
 "cells": [
  {
   "cell_type": "markdown",
   "metadata": {},
   "source": [
    "loading files"
   ]
  },
  {
   "cell_type": "code",
   "execution_count": null,
   "metadata": {},
   "outputs": [],
   "source": [
    "import pandas\n",
    "import matplotlib.pyplot as plt"
   ]
  },
  {
   "cell_type": "code",
   "execution_count": null,
   "metadata": {},
   "outputs": [],
   "source": [
    "path_to_snp_statistics = 'input/SNP_statistics_file.txt'\n",
    "path_to_snp_call_contrast_positions = 'input/SNP_call_contrast_positions_file.txt'\n",
    "path_to_cpf_csv = 'input/cpf.csv'"
   ]
  },
  {
   "cell_type": "code",
   "execution_count": null,
   "metadata": {},
   "outputs": [],
   "source": [
    "snp_statistics_df = pandas.read_csv(path_to_snp_statistics, delimiter='\\t', header=0)\n",
    "snp_call_contrast_positions_df = pandas.read_csv(path_to_snp_call_contrast_positions, delimiter='\\t', skiprows=5, header=0)"
   ]
  },
  {
   "cell_type": "code",
   "execution_count": null,
   "metadata": {},
   "outputs": [],
   "source": [
    "snp_call_contrast_positions_df"
   ]
  },
  {
   "cell_type": "code",
   "execution_count": null,
   "metadata": {},
   "outputs": [],
   "source": [
    "snp_statistics_df"
   ]
  },
  {
   "cell_type": "code",
   "execution_count": null,
   "metadata": {},
   "outputs": [],
   "source": [
    "for column_name in snp_call_contrast_positions_df.columns:\n",
    "    if column_name == 'probeset_id':\n",
    "        pass\n",
    "    else:\n",
    "        name_list = column_name.split('.')\n",
    "        if name_list[-1] == 'CEL_log_ratio':\n",
    "            #print('preimenuj')\n",
    "            #print(name_list[0])\n",
    "            snp_call_contrast_positions_df.rename(columns={column_name: name_list[0]}, inplace=True)\n",
    "        else:\n",
    "            #print('ukloni')\n",
    "            snp_call_contrast_positions_df.drop(column_name, axis=1, inplace=True)"
   ]
  },
  {
   "cell_type": "code",
   "execution_count": null,
   "metadata": {},
   "outputs": [],
   "source": [
    "snp_call_contrast_positions_df"
   ]
  },
  {
   "cell_type": "code",
   "execution_count": null,
   "metadata": {},
   "outputs": [],
   "source": [
    "#ovaj dio mozda i ne treba\n",
    "#snp_call_contrast_positions_df.to_csv(path_to_cpf_csv, index=False)"
   ]
  },
  {
   "cell_type": "code",
   "execution_count": null,
   "metadata": {},
   "outputs": [],
   "source": [
    "demo_df = pandas.merge(snp_call_contrast_positions_df, snp_statistics_df, on=['probeset_id'], how='inner')\n"
   ]
  },
  {
   "cell_type": "code",
   "execution_count": null,
   "metadata": {},
   "outputs": [],
   "source": [
    "#demo_df"
   ]
  },
  {
   "cell_type": "code",
   "execution_count": null,
   "metadata": {},
   "outputs": [],
   "source": [
    "#print(demo_df.shape)\n",
    "#print(snp_call_contrast_positions_df.shape)\n",
    "#print(snp_statistics_df.shape)"
   ]
  },
  {
   "cell_type": "code",
   "execution_count": null,
   "metadata": {},
   "outputs": [],
   "source": [
    "for index, row in demo_df.iterrows():\n",
    "    if row['n_NC'] >= 20:\n",
    "        demo_df.drop(index, inplace=True)\n",
    "demo_df.reset_index(drop=True, inplace=True)"
   ]
  },
  {
   "cell_type": "code",
   "execution_count": null,
   "metadata": {},
   "outputs": [],
   "source": [
    "#print(demo_df.shape)"
   ]
  },
  {
   "cell_type": "code",
   "execution_count": null,
   "metadata": {},
   "outputs": [],
   "source": [
    "aa_meanx_min_value = demo_df['AA.meanX'].min()\n",
    "bb_meanx_min_value = demo_df['BB.meanX'].min()\n",
    "aa_meanx_max_value = demo_df['AA.meanX'].max()\n",
    "bb_meanx_max_value = demo_df['BB.meanX'].max()\n",
    "aa_meanx_delta = abs(aa_meanx_max_value) - abs(aa_meanx_min_value)\n",
    "bb_meanx_delta = abs(bb_meanx_max_value) - abs(bb_meanx_min_value)\n",
    "\n",
    "aa_bb = (aa_meanx_delta + bb_meanx_delta) / 2"
   ]
  },
  {
   "cell_type": "code",
   "execution_count": null,
   "metadata": {},
   "outputs": [],
   "source": [
    "print(aa_meanx_min_value)\n",
    "print(bb_meanx_min_value)\n",
    "print(aa_meanx_max_value)\n",
    "print(bb_meanx_max_value)\n",
    "print(aa_meanx_delta)\n",
    "print(bb_meanx_delta)\n",
    "print(aa_bb)\n"
   ]
  },
  {
   "cell_type": "code",
   "execution_count": null,
   "metadata": {},
   "outputs": [],
   "source": [
    "for index, row in demo_df.iterrows():\n",
    "    demo_df.at[index, 'AA-BB'] = demo_df.at[index, 'AA.meanX'] - demo_df.at[index, 'BB.meanX']\n",
    "    if demo_df.at[index, 'AA-BB'] < aa_bb:\n",
    "        demo_df.drop(index, inplace=True)\n",
    "demo_df.reset_index(drop=True, inplace=True)"
   ]
  },
  {
   "cell_type": "code",
   "execution_count": null,
   "metadata": {},
   "outputs": [],
   "source": [
    "#demo_df"
   ]
  },
  {
   "cell_type": "code",
   "execution_count": null,
   "metadata": {},
   "outputs": [],
   "source": [
    "columns_to_remove = ['n_NC', 'AA.meanX', 'AA.varX', 'AB.meanX', 'BB.meanX', 'BB.varX', 'AA-BB']\n",
    "demo_df.drop(columns=columns_to_remove, inplace=True)"
   ]
  },
  {
   "cell_type": "code",
   "execution_count": null,
   "metadata": {},
   "outputs": [],
   "source": [
    "demo_df"
   ]
  },
  {
   "cell_type": "code",
   "execution_count": null,
   "metadata": {},
   "outputs": [],
   "source": [
    "columns_to_remove = ['probeset_id']\n",
    "demo_df.drop(columns=columns_to_remove, inplace=True)"
   ]
  },
  {
   "cell_type": "code",
   "execution_count": null,
   "metadata": {},
   "outputs": [],
   "source": [
    "demo_df"
   ]
  },
  {
   "cell_type": "code",
   "execution_count": null,
   "metadata": {},
   "outputs": [],
   "source": []
  },
  {
   "cell_type": "code",
   "execution_count": null,
   "metadata": {},
   "outputs": [],
   "source": [
    "output_directory = 'histograms'\n",
    "import os\n",
    "os.makedirs(output_directory, exist_ok=True)\n",
    "for column in demo_df.columns:\n",
    "    plt.hist(demo_df[column], bins=1000, edgecolor='black')\n",
    "    plt.xlabel(column)\n",
    "    plt.ylabel('Frequency')\n",
    "    plt.title(f'Histogram for {column}')\n",
    "    output_file_path = os.path.join(output_directory, f'{column}_histogram.png')\n",
    "    plt.savefig(output_file_path, bbox_inches='tight')\n",
    "    #plt.show()\n",
    "    plt.clf()\n",
    "plt.close('all')"
   ]
  },
  {
   "cell_type": "code",
   "execution_count": null,
   "metadata": {},
   "outputs": [],
   "source": []
  }
 ],
 "metadata": {
  "kernelspec": {
   "display_name": "Python 3 (ipykernel)",
   "language": "python",
   "name": "python3"
  },
  "language_info": {
   "codemirror_mode": {
    "name": "ipython",
    "version": 3
   },
   "file_extension": ".py",
   "mimetype": "text/x-python",
   "name": "python",
   "nbconvert_exporter": "python",
   "pygments_lexer": "ipython3",
   "version": "3.11.6"
  }
 },
 "nbformat": 4,
 "nbformat_minor": 5
}
