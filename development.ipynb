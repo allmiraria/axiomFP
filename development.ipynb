{
 "cells": [
  {
   "cell_type": "markdown",
   "metadata": {},
   "source": [
    "loading files"
   ]
  },
  {
   "cell_type": "code",
   "execution_count": 44,
   "metadata": {},
   "outputs": [],
   "source": [
    "import pandas\n",
    "import matplotlib.pyplot as plt\n",
    "from tqdm.notebook import trange, tqdm\n",
    "# from time import sleep\n",
    "\n",
    "# for i in trange(3, desc='1st loop'):\n",
    "#     for j in tqdm(range(100), desc='2nd loop'):\n",
    "#         sleep(0.01)"
   ]
  },
  {
   "cell_type": "code",
   "execution_count": 45,
   "metadata": {},
   "outputs": [],
   "source": [
    "path_to_snp_statistics = 'input/SNP_statistics_file.txt'\n",
    "path_to_snp_call_contrast_positions = 'input/SNP_call_contrast_positions_file.txt'\n",
    "path_to_cpf_csv = 'input/cpf.csv'"
   ]
  },
  {
   "cell_type": "code",
   "execution_count": 48,
   "metadata": {},
   "outputs": [],
   "source": [
    "snp_statistics_df = pandas.read_csv(path_to_snp_statistics, delimiter='\\t', header=0)\n",
    "snp_call_contrast_positions_df = pandas.read_csv(path_to_snp_call_contrast_positions, delimiter='\\t', skiprows=5, header=0)"
   ]
  },
  {
   "cell_type": "code",
   "execution_count": 51,
   "metadata": {},
   "outputs": [
    {
     "ename": "TypeError",
     "evalue": "'Index' object cannot be interpreted as an integer",
     "output_type": "error",
     "traceback": [
      "\u001b[0;31m---------------------------------------------------------------------------\u001b[0m",
      "\u001b[0;31mTypeError\u001b[0m                                 Traceback (most recent call last)",
      "\u001b[1;32m/home/zuun/Documents/coding/b_allele_plot/development.ipynb Cell 5\u001b[0m line \u001b[0;36m1\n\u001b[0;32m----> <a href='vscode-notebook-cell:/home/zuun/Documents/coding/b_allele_plot/development.ipynb#W5sZmlsZQ%3D%3D?line=0'>1</a>\u001b[0m \u001b[39mfor\u001b[39;00m column_name \u001b[39min\u001b[39;00m trange(snp_call_contrast_positions_df\u001b[39m.\u001b[39;49mcolumns, desc\u001b[39m=\u001b[39;49m\u001b[39m'\u001b[39;49m\u001b[39mRemoving columns:\u001b[39;49m\u001b[39m'\u001b[39;49m):\n\u001b[1;32m      <a href='vscode-notebook-cell:/home/zuun/Documents/coding/b_allele_plot/development.ipynb#W5sZmlsZQ%3D%3D?line=1'>2</a>\u001b[0m     \u001b[39mif\u001b[39;00m column_name \u001b[39m==\u001b[39m \u001b[39m'\u001b[39m\u001b[39mprobeset_id\u001b[39m\u001b[39m'\u001b[39m:\n\u001b[1;32m      <a href='vscode-notebook-cell:/home/zuun/Documents/coding/b_allele_plot/development.ipynb#W5sZmlsZQ%3D%3D?line=2'>3</a>\u001b[0m         \u001b[39mpass\u001b[39;00m\n",
      "File \u001b[0;32m~/Documents/coding/b_allele_plot/venv/lib64/python3.11/site-packages/tqdm/notebook.py:311\u001b[0m, in \u001b[0;36mtnrange\u001b[0;34m(*args, **kwargs)\u001b[0m\n\u001b[1;32m    309\u001b[0m \u001b[39mdef\u001b[39;00m \u001b[39mtnrange\u001b[39m(\u001b[39m*\u001b[39margs, \u001b[39m*\u001b[39m\u001b[39m*\u001b[39mkwargs):\n\u001b[1;32m    310\u001b[0m \u001b[39m    \u001b[39m\u001b[39m\"\"\"Shortcut for `tqdm.notebook.tqdm(range(*args), **kwargs)`.\"\"\"\u001b[39;00m\n\u001b[0;32m--> 311\u001b[0m     \u001b[39mreturn\u001b[39;00m tqdm_notebook(\u001b[39mrange\u001b[39;49m(\u001b[39m*\u001b[39;49margs), \u001b[39m*\u001b[39m\u001b[39m*\u001b[39mkwargs)\n",
      "\u001b[0;31mTypeError\u001b[0m: 'Index' object cannot be interpreted as an integer"
     ]
    }
   ],
   "source": [
    "for column_name in trange(snp_call_contrast_positions_df.columns, desc='Removing columns:'):\n",
    "    if column_name == 'probeset_id':\n",
    "        pass\n",
    "    else:\n",
    "        name_list = column_name.split('.')\n",
    "        if name_list[-1] == 'CEL_log_ratio':\n",
    "            #print('preimenuj')\n",
    "            #print(name_list[0])\n",
    "            snp_call_contrast_positions_df.rename(columns={column_name: name_list[0]}, inplace=True)\n",
    "        else:\n",
    "            #print('ukloni')\n",
    "            snp_call_contrast_positions_df.drop(column_name, axis=1, inplace=True)"
   ]
  },
  {
   "cell_type": "code",
   "execution_count": 15,
   "metadata": {},
   "outputs": [],
   "source": [
    "demo_df = pandas.merge(snp_call_contrast_positions_df, snp_statistics_df, on=['probeset_id'], how='inner')\n"
   ]
  },
  {
   "cell_type": "code",
   "execution_count": 16,
   "metadata": {},
   "outputs": [],
   "source": [
    "for index, row in demo_df.iterrows():\n",
    "    if row['n_NC'] >= 20:\n",
    "        demo_df.drop(index, inplace=True)\n",
    "demo_df.reset_index(drop=True, inplace=True)"
   ]
  },
  {
   "cell_type": "code",
   "execution_count": 17,
   "metadata": {},
   "outputs": [],
   "source": [
    "aa_meanx_min_value = demo_df['AA.meanX'].min()\n",
    "bb_meanx_min_value = demo_df['BB.meanX'].min()\n",
    "aa_meanx_max_value = demo_df['AA.meanX'].max()\n",
    "bb_meanx_max_value = demo_df['BB.meanX'].max()\n",
    "aa_meanx_delta = abs(aa_meanx_max_value) - aa_meanx_min_value\n",
    "bb_meanx_delta = abs(bb_meanx_max_value) - bb_meanx_min_value\n",
    "\n",
    "aa_bb = (aa_meanx_delta + bb_meanx_delta) / 2"
   ]
  },
  {
   "cell_type": "code",
   "execution_count": 18,
   "metadata": {},
   "outputs": [
    {
     "name": "stdout",
     "output_type": "stream",
     "text": [
      "4.859\n",
      "-1.171\n",
      "6.03\n",
      "1.603\n",
      "-4.41\n",
      "6.013\n",
      "6.0215\n"
     ]
    }
   ],
   "source": [
    "print(aa_meanx_max_value)\n",
    "print(aa_meanx_min_value)\n",
    "print(aa_meanx_delta)\n",
    "\n",
    "\n",
    "print(bb_meanx_max_value)\n",
    "print(bb_meanx_min_value)\n",
    "print(bb_meanx_delta)\n",
    "\n",
    "print(aa_bb)\n"
   ]
  },
  {
   "cell_type": "code",
   "execution_count": 19,
   "metadata": {},
   "outputs": [],
   "source": [
    "for index, row in demo_df.iterrows():\n",
    "    demo_df.at[index, 'AA-BB'] = demo_df.at[index, 'AA.meanX'] - demo_df.at[index, 'BB.meanX']"
   ]
  },
  {
   "cell_type": "code",
   "execution_count": 38,
   "metadata": {},
   "outputs": [],
   "source": [
    "demo_filtered_df = pandas.DataFrame(columns=demo_df.columns)\n",
    "for index, row in demo_df.iterrows():\n",
    "    if row['AA-BB'] > aa_bb:\n",
    "        demo_filtered_df.loc[len(demo_filtered_df)] = row"
   ]
  },
  {
   "cell_type": "code",
   "execution_count": 39,
   "metadata": {},
   "outputs": [],
   "source": [
    "columns_to_remove = ['n_NC', 'AA.meanX', 'AA.varX', 'AB.meanX', 'BB.meanX', 'BB.varX', 'AA-BB', 'probeset_id']\n",
    "demo_filtered_df.drop(columns=columns_to_remove, inplace=True)"
   ]
  },
  {
   "cell_type": "code",
   "execution_count": 42,
   "metadata": {},
   "outputs": [],
   "source": [
    "output_directory = 'histograms'\n",
    "import os\n",
    "os.makedirs(output_directory, exist_ok=True)\n",
    "for column in demo_filtered_df.columns:\n",
    "    plt.hist(demo_filtered_df[column], bins=160, edgecolor='black')\n",
    "    plt.xlabel(column)\n",
    "    plt.ylabel('Frequency')\n",
    "    plt.title(f'Histogram for {column}')\n",
    "    output_file_path = os.path.join(output_directory, f'{column}_histogram.png')\n",
    "    plt.savefig(output_file_path, bbox_inches='tight')\n",
    "    #plt.show()\n",
    "    plt.clf()\n",
    "plt.close('all')"
   ]
  },
  {
   "cell_type": "code",
   "execution_count": null,
   "metadata": {},
   "outputs": [],
   "source": []
  }
 ],
 "metadata": {
  "kernelspec": {
   "display_name": "Python 3 (ipykernel)",
   "language": "python",
   "name": "python3"
  },
  "language_info": {
   "codemirror_mode": {
    "name": "ipython",
    "version": 3
   },
   "file_extension": ".py",
   "mimetype": "text/x-python",
   "name": "python",
   "nbconvert_exporter": "python",
   "pygments_lexer": "ipython3",
   "version": "3.11.6"
  }
 },
 "nbformat": 4,
 "nbformat_minor": 5
}
